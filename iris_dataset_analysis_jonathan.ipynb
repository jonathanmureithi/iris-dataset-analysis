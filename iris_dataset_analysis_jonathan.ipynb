{
  "metadata": {
    "kernelspec": {
      "name": ""
    },
    "language_info": {
      "name": ""
    }
  },
  "nbformat_minor": 5,
  "nbformat": 4,
  "cells": [
    {
      "id": "f0919ef0-0439-4e93-a990-1027fd6ef134",
      "cell_type": "code",
      "source": "# Iris Dataset Analysis\n\nIn this notebook, we perform data loading, exploration, analysis, and visualization on the classic Iris dataset. The Iris dataset contains measurements of sepal and petal lengths and widths for three species of iris flowers: setosa, versicolor, and virginica.\n",
      "metadata": {
        "trusted": true
      },
      "outputs": [],
      "execution_count": null
    },
    {
      "id": "b34b7ef3-97db-4fc5-ad99-4a63167313ac",
      "cell_type": "code",
      "source": "## Step 1: Importing Libraries\n\nWe import necessary libraries, including pandas for data manipulation, matplotlib and seaborn for visualization, and sklearn to load the Iris dataset.\n\nimport pandas as pd\nimport numpy as np\nimport matplotlib.pyplot as plt\nimport seaborn as sns\nfrom sklearn.datasets import load_iris\n",
      "metadata": {
        "trusted": true
      },
      "outputs": [],
      "execution_count": null
    },
    {
      "id": "984c4408-c4f1-4053-9c05-ebb32314b234",
      "cell_type": "code",
      "source": "## Step 2: Loading and Exploring the Dataset\n\nWe load the Iris dataset using `sklearn.datasets.load_iris()` and convert it into a pandas DataFrame. Then, we inspect the first few rows and check for data types and missing values.\n\ntry:\n    iris = load_iris()\n    iris_df = pd.DataFrame(data=iris.data, columns=iris.feature_names)\n    iris_df['species'] = iris.target\n    iris_df['species'] = iris_df['species'].map(dict(zip(range(3), iris.target_names)))\n\n    print(\"First 5 rows:\")\n    display(iris_df.head())\n    \n    print(\"\\nData Types:\")\n    print(iris_df.dtypes)\n\n    print(\"\\nMissing Values:\")\n    print(iris_df.isnull().sum())\n\nexcept FileNotFoundError:\n    print(\"Dataset file not found.\")\nexcept Exception as e:\n    print(\"An error occurred:\", e)\n",
      "metadata": {
        "trusted": true
      },
      "outputs": [],
      "execution_count": null
    },
    {
      "id": "becaa1c8-6d74-46c7-b905-49d8f45b8c11",
      "cell_type": "code",
      "source": "## Step 3: Basic Statistics and Grouped Analysis\n\nWe use `.describe()` to get summary statistics of the numerical columns. Then, we group the data by species to compute the mean values for each species and identify notable differences.\n\nprint(\"Summary statistics:\")\ndisplay(iris_df.describe())\n\nprint(\"\\nMean values per species:\")\ndisplay(iris_df.groupby('species').mean())\n",
      "metadata": {
        "trusted": true
      },
      "outputs": [],
      "execution_count": null
    },
    {
      "id": "e51f6f71-15fd-4efd-9b08-3e49bdef4b58",
      "cell_type": "code",
      "source": "## Step 4: Line Chart – Average Petal Length per Species\n\nThis line chart shows the average petal length for each iris species. It helps us understand how petal length varies across species.\n\ngrouped_means = iris_df.groupby('species').mean()\n\nplt.figure(figsize=(8,5))\nsns.lineplot(data=grouped_means[['petal length (cm)']].reset_index(), x='species', y='petal length (cm)', marker='o')\nplt.title('Average Petal Length per Species')\nplt.xlabel('Species')\nplt.ylabel('Petal Length (cm)')\nplt.tight_layout()\nplt.show()\n",
      "metadata": {
        "trusted": true
      },
      "outputs": [],
      "execution_count": null
    },
    {
      "id": "08d587c1-6ff2-4719-b28b-fb03bf62b92f",
      "cell_type": "code",
      "source": "## Step 5: Bar Chart – Average Sepal Width per Species\n\nThis bar chart visualizes the average sepal width for each iris species, giving a clear comparison across categories.\n\nplt.figure(figsize=(8,5))\nsns.barplot(data=iris_df, x='species', y='sepal width (cm)', ci=None)\nplt.title('Average Sepal Width per Species')\nplt.xlabel('Species')\nplt.ylabel('Sepal Width (cm)')\nplt.tight_layout()\nplt.show()\n",
      "metadata": {
        "trusted": true
      },
      "outputs": [],
      "execution_count": null
    },
    {
      "id": "6d18346c-745a-45dc-86f8-f27b2c2986ba",
      "cell_type": "code",
      "source": "## Step 6: Histogram – Distribution of Petal Length\n\nThe histogram provides insight into how petal lengths are distributed in the dataset. It shows whether the data is skewed or normally distributed.\n\nplt.figure(figsize=(8,5))\nplt.hist(iris_df['petal length (cm)'], bins=20, color='teal', edgecolor='black')\nplt.title('Distribution of Petal Length')\nplt.xlabel('Petal Length (cm)')\nplt.ylabel('Frequency')\nplt.tight_layout()\nplt.show()\n",
      "metadata": {
        "trusted": true
      },
      "outputs": [],
      "execution_count": null
    },
    {
      "id": "2aef9738-954e-4297-8d3f-da8ad1a2ffc7",
      "cell_type": "code",
      "source": "## Step 7: Scatter Plot – Sepal Length vs Petal Length\n\nThis scatter plot displays the relationship between sepal length and petal length. The use of different colors for each species helps visualize clustering and separation.\n\nplt.figure(figsize=(8,5))\nsns.scatterplot(data=iris_df, x='sepal length (cm)', y='petal length (cm)', hue='species', palette='deep')\nplt.title('Sepal Length vs Petal Length')\nplt.xlabel('Sepal Length (cm)')\nplt.ylabel('Petal Length (cm)')\nplt.legend(title='Species')\nplt.tight_layout()\nplt.show()\n",
      "metadata": {
        "trusted": true
      },
      "outputs": [],
      "execution_count": null
    },
    {
      "id": "498daad6-9699-4b24-975f-3aa12080b4e9",
      "cell_type": "code",
      "source": "## Conclusion\n\nFrom our analysis and visualizations:\n\n- **Iris-virginica** typically has the longest petals and sepals.\n- Petal length is a strong indicator for distinguishing species.\n- The scatter plot clearly shows how well-separated the species are based on sepal and petal measurements.\n\nThis analysis demonstrates how simple exploratory data analysis (EDA) techniques can provide meaningful insights into a dataset.\n",
      "metadata": {
        "trusted": true
      },
      "outputs": [],
      "execution_count": null
    }
  ]
}